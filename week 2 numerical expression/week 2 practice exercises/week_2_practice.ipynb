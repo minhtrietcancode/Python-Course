{
 "cells": [
  {
   "cell_type": "markdown",
   "id": "7498bbc0",
   "metadata": {},
   "source": [
    "## Bài tập luyện tập: Floating Point Calculation\n",
    "\n",
    "### Bài tập 1\n",
    "Viết chương trình nhập vào hai số thực a và b từ bàn phím, sau đó in ra tổng, hiệu, tích và thương của hai số này.\n",
    "\n",
    "### Bài tập 2\n",
    "Viết chương trình nhập vào bán kính hình tròn (kiểu float), tính và in ra diện tích và chu vi của hình tròn đó.\n",
    "Gợi ý: Sử dụng công thức diện tích $S = \\pi r^2$ và chu vi $C = 2\\pi r$ với $\\pi \\approx 3.14159$."
   ]
  },
  {
   "cell_type": "markdown",
   "id": "dc1a9418",
   "metadata": {},
   "source": [
    "## Bài tập luyện tập: Type Conversion và Hàm input()\n",
    "\n",
    "### Bài tập 3\n",
    "Viết chương trình nhập vào một số nguyên từ bàn phím (dùng hàm `input()`), sau đó chuyển số này sang kiểu float và in ra màn hình.\n",
    "\n",
    "### Bài tập 4\n",
    "Viết chương trình nhập vào một chuỗi từ bàn phím, sau đó chuyển chuỗi này sang số nguyên bằng hàm `int()` và in ra kết quả. (Thử nhập cả chuỗi là số và chuỗi không phải số để quan sát kết quả và lỗi xuất hiện.)"
   ]
  },
  {
   "cell_type": "markdown",
   "id": "29975e9d",
   "metadata": {},
   "source": [
    "## Bài tập luyện tập: Integer Division, Modulo, Exponentiation\n",
    "\n",
    "### Bài tập 5\n",
    "Viết chương trình nhập vào hai số nguyên a và b từ bàn phím, sau đó in ra kết quả phép chia lấy phần nguyên (sử dụng toán tử `//`).\n",
    "\n",
    "### Bài tập 6\n",
    "Viết chương trình nhập vào hai số nguyên a và b từ bàn phím, sau đó in ra kết quả phép chia lấy phần dư (sử dụng toán tử `%`).\n",
    "\n",
    "### Bài tập 7\n",
    "Viết chương trình nhập vào hai số nguyên a và b từ bàn phím, sau đó in ra kết quả lũy thừa a^b (sử dụng toán tử `**`)."
   ]
  }
 ],
 "metadata": {
  "language_info": {
   "name": "python"
  }
 },
 "nbformat": 4,
 "nbformat_minor": 5
}
