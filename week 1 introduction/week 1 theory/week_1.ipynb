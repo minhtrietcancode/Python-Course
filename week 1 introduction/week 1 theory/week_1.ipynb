{
 "cells": [
  {
   "cell_type": "markdown",
   "id": "8a8aebc9",
   "metadata": {},
   "source": [
    "# Ngôn ngữ lập trình là gì và nó có sức mạnh như thế nào ? \n",
    "- Xung quanh cuộc sống này có rất nhiều thứ ta có thể làm thủ công được, thế nhưng chẳng phải sẽ tiện lợi hơn nếu ta có thể tự động hóa các công việc này thông qua một điều gì đó đúng không ? Một trong những thứ có khả năng đó là ngôn ngữ lập trình. \n",
    "- Chắc mọi người đã từng xem qua meme chép phạt gửi người yêu \"anh xin lỗi em\" 1000 lần rồi đúng không, thay vì nhắn tin này xin lỗi người yêu 1000 lần, chúng ta có thể đơn giản chỉ cần dùng lập trình, tự động làm điều này cho chúng ta, ví dụ đơn giản đúng không nào"
   ]
  },
  {
   "cell_type": "markdown",
   "id": "f220b296",
   "metadata": {},
   "source": [
    "# Vậy Python là gì, tại sao mình lại chọn sử dụng Python ?\n",
    "- Python là một ngôn ngữ lập trình giữa vô vàn ngôn ngữ lập trình, lý do mình chọn Python để giới thiệu cho mọi người đó là vì sự dễ hiểu, dễ dùng và tiện dụng của Python, với Python, chỉ cần biết Tiếng Anh cơ bản if else, for while là quá đủ hihi. Bên cạnh đó cú pháp sử dụng Python cũng cực tối ưu cho người sử dụng, đó là lý do mình chọn Python cho mọi người "
   ]
  },
  {
   "cell_type": "markdown",
   "id": "5750642d",
   "metadata": {},
   "source": [
    "# Cùng viết những dòng code đầu tiên của mình thôi anh em "
   ]
  },
  {
   "cell_type": "code",
   "execution_count": 2,
   "id": "a11ae8ca",
   "metadata": {},
   "outputs": [
    {
     "name": "stdout",
     "output_type": "stream",
     "text": [
      "Hello world\n"
     ]
    }
   ],
   "source": [
    "print(\"Hello world\")"
   ]
  },
  {
   "cell_type": "markdown",
   "id": "ac7cafb1",
   "metadata": {},
   "source": [
    "- Mọi người nhìn dòng code mình vừa gõ phía trên nhé, chính xác là Tiếng Anh cơ bản cùng em bé tiểu học, ở đây mọi người hãy nhìn vào một số điểm đáng chú ý sau nhé \n",
    "    + Đầu tiên là từ khóa \"print\": đọc đúng mặt chữ mọi người cũng có thể đoán được mục đích của từ khóa này là để sử dụng một tính năng gì đó có khả năng in ra dòng chữ mình muốn in đúng không nào \n",
    "    + Tiếp theo là thứ ở bên trong dấu ngoặc kép \"\": cụ thể ở đây là \"Hello world\", lý do chúng ta để cụm từ Hello world ở bên trong dấu ngoặc kép là để báo hiệu cho Python rằng đây là chuỗi kí tự chúng ta muốn in ra màn hình, bên trong dấu ngoặc kép có thể là bất cứ từ gì, câu gì cũng được, chẳng hạn bạn muốn in ra tên bạn lên màn hình, chỉ cần thay Hello world bằng tên bạn và để vào trong dấu ngoặc kép \n",
    "    + Nếu chúng ta không để chuỗi kí tự vào trong dấu ngoặc kép, Python sẽ không nhận dạng được rằng: à oke \"Hello world\" là một chuỗi kí tự cần được in ra, mà nó chỉ đơn giản nhận dạng Hello world như một thứ gì đó không tồn tại, không được định nghĩa --> lỗi --> xem ví dụ dưới đây nhé mọi người "
   ]
  },
  {
   "cell_type": "code",
   "execution_count": 3,
   "id": "918dad54",
   "metadata": {},
   "outputs": [
    {
     "ename": "SyntaxError",
     "evalue": "invalid syntax. Perhaps you forgot a comma? (3449611317.py, line 1)",
     "output_type": "error",
     "traceback": [
      "\u001b[1;36m  Cell \u001b[1;32mIn[3], line 1\u001b[1;36m\u001b[0m\n\u001b[1;33m    print(Hello world)\u001b[0m\n\u001b[1;37m          ^\u001b[0m\n\u001b[1;31mSyntaxError\u001b[0m\u001b[1;31m:\u001b[0m invalid syntax. Perhaps you forgot a comma?\n"
     ]
    }
   ],
   "source": [
    "print(Hello world)"
   ]
  },
  {
   "cell_type": "markdown",
   "id": "63c8c481",
   "metadata": {},
   "source": [
    "- Mọi người thấy Python báo lỗi đỏ lè chưa nào, Python không biết Hello world là cái gì cả, nếu muốn Hello world bản thân nó là một chuỗi kí tự thì chúng ta phải để trong ngoặc kép nhé, nhớ kĩ cái này nhé mọi người "
   ]
  },
  {
   "cell_type": "code",
   "execution_count": 5,
   "id": "9f259514",
   "metadata": {},
   "outputs": [],
   "source": [
    "# Bây giờ đến lượt mọi người, hãy thử in tên mình lên màn hình ở trong ô này nhé\n",
    "\n"
   ]
  },
  {
   "cell_type": "markdown",
   "id": "fed24d75",
   "metadata": {},
   "source": [
    "- Mọi người có để ý thấy đoạn note mình viết ở ô bên trên không (ô thứ 5 nhé), đó được gọi là comment\n",
    "- Khi mình muốn take note ở trong code của mình, để nhắc bản thân ghi nhớ, hoặc cho ai đó dể hiểu hơn khi đọc thì mình có thể để một lời nhắn ở đó bằng cách để dấu thăng # ở trước đoạn note. Và khi mà Python chạy đoạn code mình viết, nó sẽ coi như đống kí tự, đống mình viết sau dấu # là không tồn tại, comment không gây ảnh hưởng đến đoạn code của mình anh em nhé"
   ]
  },
  {
   "cell_type": "markdown",
   "id": "70e52f0a",
   "metadata": {},
   "source": [
    "# Sử dụng Python như một chiếc máy tính bỏ túi"
   ]
  },
  {
   "cell_type": "markdown",
   "id": "55fd56b0",
   "metadata": {},
   "source": [
    "- Python cũng có thể thực hiện các phép tính toán mà chúng ta hay gặp \n",
    "    + \"+\": phép cộng\n",
    "    + \"-\": phép trừ \n",
    "    + \"*\": phép nhân\n",
    "    + \"/\": phép chia \n",
    "    + \"**\": lũy thừa \n",
    "    + và còn nhiều hơn nữa nếu chúng ta cần thêm, đơn giản search google là ra \n",
    "- Bây giờ xem thử ví dụ này nhé "
   ]
  },
  {
   "cell_type": "code",
   "execution_count": 6,
   "id": "b4fc6f32",
   "metadata": {},
   "outputs": [
    {
     "name": "stdout",
     "output_type": "stream",
     "text": [
      "7\n"
     ]
    }
   ],
   "source": [
    "print(3 * 2 + 2 - 1)"
   ]
  },
  {
   "cell_type": "markdown",
   "id": "a394800a",
   "metadata": {},
   "source": [
    "- Đó mọi người thấy Python cũng có thể giúp chúng ta thực hiện được những phép tính đúng không nào"
   ]
  },
  {
   "cell_type": "markdown",
   "id": "e8faa5e5",
   "metadata": {},
   "source": []
  },
  {
   "cell_type": "markdown",
   "id": "362b2abc",
   "metadata": {},
   "source": [
    "# Strings (xâu kí tự)"
   ]
  },
  {
   "cell_type": "markdown",
   "id": "8d11ccec",
   "metadata": {},
   "source": []
  },
  {
   "cell_type": "markdown",
   "id": "a5693587",
   "metadata": {},
   "source": [
    "- Bây giờ chúng ta sẽ đến với strings, một kiểu dữ liệu trong Python, trước lúc đọc về ví dụ này mọi người hãy nhìn lại lên phần trên khi chúng ta viết dòng code đầu tiên nhé: print(\"Hello world\")\n",
    "- Mọi người có thể đễ dàng thấy khi chúng ta để chữ, số, kí tự, ... ở bên trong dấu ngoặc kép, tất cả những thứ đó sẽ được xâu chuỗi lại và trở thành một xâu kí tự\n",
    "- Bên trong dấu ngoặc kép, hay nói cách khác một xâu kí tự có thể chứa bất cứ kí tự gì mà chúng ta muốn\n",
    "- Lưu ý rằng xâu kí tự khác với số nhé, hãy nhìn vào ví dụ dưới đây này"
   ]
  },
  {
   "cell_type": "code",
   "execution_count": 1,
   "id": "03a039b8",
   "metadata": {},
   "outputs": [
    {
     "name": "stdout",
     "output_type": "stream",
     "text": [
      "1\n"
     ]
    }
   ],
   "source": [
    "print(\"1\")"
   ]
  },
  {
   "cell_type": "code",
   "execution_count": 2,
   "id": "9ec2b9de",
   "metadata": {},
   "outputs": [
    {
     "name": "stdout",
     "output_type": "stream",
     "text": [
      "1\n"
     ]
    }
   ],
   "source": [
    "print(1)"
   ]
  },
  {
   "cell_type": "markdown",
   "id": "a211b57a",
   "metadata": {},
   "source": [
    "- Nếu đọc lại các đoạn note phía trên mọi người sẽ thấy mình có dặn là nếu muốn in ra một cái gì đó, phải để trong dấu ngoặc kép đúng không nào \n",
    "- Thế nhưng ở đây khi mình muốn in ra 1 lên màn hình, mọi người thử nghĩ xem tại sao mình không để dấu ngoặc kép mà vẫn có thể in ra được ? "
   ]
  },
  {
   "cell_type": "markdown",
   "id": "25584289",
   "metadata": {},
   "source": [
    "Thử với một ví dụ khác xem nhé "
   ]
  },
  {
   "cell_type": "code",
   "execution_count": 3,
   "id": "e40434ab",
   "metadata": {},
   "outputs": [
    {
     "name": "stdout",
     "output_type": "stream",
     "text": [
      "a\n"
     ]
    }
   ],
   "source": [
    "print(\"a\")"
   ]
  },
  {
   "cell_type": "code",
   "execution_count": 4,
   "id": "1f1a33d2",
   "metadata": {},
   "outputs": [
    {
     "ename": "NameError",
     "evalue": "name 'a' is not defined",
     "output_type": "error",
     "traceback": [
      "\u001b[1;31m---------------------------------------------------------------------------\u001b[0m",
      "\u001b[1;31mNameError\u001b[0m                                 Traceback (most recent call last)",
      "Cell \u001b[1;32mIn[4], line 1\u001b[0m\n\u001b[1;32m----> 1\u001b[0m \u001b[38;5;28mprint\u001b[39m(\u001b[43ma\u001b[49m)\n",
      "\u001b[1;31mNameError\u001b[0m: name 'a' is not defined"
     ]
    }
   ],
   "source": [
    "print(a)"
   ]
  },
  {
   "cell_type": "markdown",
   "id": "d24a2505",
   "metadata": {},
   "source": [
    "- Nếu mình làm điều tương tự với việc in chữ \"a\" ra màn hình, nó lại báo lỗi\n",
    "- Vậy chúng ta có thể rút ra được điều gì từ đây ? \n",
    "    + với việc in ra số 1 lên màn hình, như mình đã nói ở phía trên, lý do chúng ta để đoạn kí tự muốn in ra màn hình ở trong ngoặc kép là để báo với Python rằng: oke đây là string, hãy đơn giản in nó ra, \n",
    "    + Nếu chúng ta không để trong ngoặc, Python sẽ không nhận dạng nó là string, và python sẽ tưởng rằng đó là một thứ gì đó không tồn tại, chưa được định nghĩa --> báo lỗi --> mọi người hãy nhìn ví dụ lúc in chữ \"a\" ra màn hình \n",
    "    + Vậy bây giờ mọi người hãy nghĩ thử tại sao đối với việc in số 1 ra màn hình, chúng ta lại có thể in ra mà không cần dấu ngoặc kép ? "
   ]
  },
  {
   "cell_type": "markdown",
   "id": "9a58d192",
   "metadata": {},
   "source": [
    "- Câu trả lời rất đơn giản, bởi vì bản thân số 1 cũng có ý nghĩa, nếu mọi người đọc kĩ đoạn phía trên, lý do chúng ta để vào trong ngoặc kép là để báo Python rằng oke, đây là một đoạn kí tự thôi, không phải gì đặc biệt cả\n",
    "- Hai câu lệnh print(1) và print(\"1\") đều in số 1 ra màn hình đúng không, nhưng bản chất ở đây thứ nó in ra không hề giống nhau nhé\n",
    "    + Với câu lệnh print(\"1\") là chúng ta chỉ đơn thuần là in ra CHỮ SỐ 1, NHỚ KĨ NHÉ - CHỮ SỐ 1, điều này có nghĩa là cái số 1 ở trong bối cảnh \"1\" chỉ đơn thuần là một kí tự chữ số 1, không có giá trị nào về mặt toán học cả\n",
    "    + Còn đối với lệnh print(1) là chúng ta in ra một GIÁ TRỊ 1 - CÁI NÀY KHÁC VỚI CHỮ SỐ 1 ĐẤY NHÉ. Số 1 ở trong bối cảnh này, là một con số - chữ không chỉ là một kí tự / chữ số \n",
    "    + Đó là lý do vì sao chúng ta không cần ngoặc kép ở đây, tại vì số 1 nó cũng có ý nghĩa, chứ không phải một thứ vô nghĩa mà Python k nhận dạng được "
   ]
  },
  {
   "cell_type": "markdown",
   "id": "eb1d0bfa",
   "metadata": {},
   "source": [
    "Bây giờ mọi người để ý hai ví dụ dưới đây để hiểu hơn về strings nhé "
   ]
  },
  {
   "cell_type": "code",
   "execution_count": 5,
   "id": "786edf63",
   "metadata": {},
   "outputs": [
    {
     "name": "stdout",
     "output_type": "stream",
     "text": [
      "2\n"
     ]
    }
   ],
   "source": [
    "print(1 + 1)"
   ]
  },
  {
   "cell_type": "code",
   "execution_count": 6,
   "id": "ce09eeee",
   "metadata": {},
   "outputs": [
    {
     "name": "stdout",
     "output_type": "stream",
     "text": [
      "11\n"
     ]
    }
   ],
   "source": [
    "print(\"1\" + \"1\")"
   ]
  },
  {
   "cell_type": "markdown",
   "id": "aefd9ce5",
   "metadata": {},
   "source": [
    "- Bây giờ thì mọi người thấy rõ ràng hơn rồi đúng không nào, về sự khác nhau giữa \"1\" và 1, một cái đơn thuần chỉ là một kí tự, không có giá trị toán học nào cả, một bên có giá trị hẳn hoi luôn \n",
    "    + Đối với print(1 + 1), kết quả in ra là 2 - vì đây là một phép toán, trong tình huống này 1 đóng vai trò là một giá trị \n",
    "    + Đối với print(\"1\" + \"1\"), kết quả in ra là 11, mọi người dừng vài giây nghĩ xem tại sao nào ? Câu trả lời rất đơn giản, vì ở đây \"1\" chỉ đơn thuần là một kí tự, không có ý nghĩa nào về mặt giá trị cả. \n",
    "    + Bản thân dấu \"+\" trong bối cảnh \"1\" + \"1\" như là một cách để ghép hai đoạn kí tự vào với nhau"
   ]
  },
  {
   "cell_type": "markdown",
   "id": "9a0ff746",
   "metadata": {},
   "source": [
    "Bây giờ hãy cùng xem kĩ hơn về dấu \"+\" hay cách ghép strings nhé "
   ]
  },
  {
   "cell_type": "code",
   "execution_count": 7,
   "id": "22fcc005",
   "metadata": {},
   "outputs": [
    {
     "name": "stdout",
     "output_type": "stream",
     "text": [
      "Helloworld\n"
     ]
    }
   ],
   "source": [
    "print(\"Hello\" + \"world\")"
   ]
  },
  {
   "cell_type": "markdown",
   "id": "51c1d2e3",
   "metadata": {},
   "source": [
    "- Đến đây thì anh em đều thấy rõ rồi đúng không nào, khi ta đặt dấu cộng như vậy sẽ có thể ghép được hai chuỗi kí tự lại với nhau "
   ]
  },
  {
   "cell_type": "markdown",
   "id": "d51227b6",
   "metadata": {},
   "source": [
    "Bây giờ hãy thử đoán xem, dấu nhân \"*\" có thể sử dụng được không nhé "
   ]
  },
  {
   "cell_type": "code",
   "execution_count": 8,
   "id": "c40ea9da",
   "metadata": {},
   "outputs": [
    {
     "name": "stdout",
     "output_type": "stream",
     "text": [
      "HelloHelloHelloHello\n"
     ]
    }
   ],
   "source": [
    "print(\"Hello\" * 4)"
   ]
  },
  {
   "cell_type": "markdown",
   "id": "b3453255",
   "metadata": {},
   "source": [
    "- Chỉ cần nhìn là mọi người hiểu dấu nhân có tác dụng như nào rồi đúng không nào, nên nhớ ở đây chúng ta phải nhân 4 chứ không phải nhân \"4\", vì \"4\" không có giá trị về mặt giá trị toán học, nên phép nhân vô dụng, hãy nhìn kĩ xuống dưới đây nhé "
   ]
  },
  {
   "cell_type": "code",
   "execution_count": 9,
   "id": "d87b5267",
   "metadata": {},
   "outputs": [
    {
     "ename": "TypeError",
     "evalue": "can't multiply sequence by non-int of type 'str'",
     "output_type": "error",
     "traceback": [
      "\u001b[1;31m---------------------------------------------------------------------------\u001b[0m",
      "\u001b[1;31mTypeError\u001b[0m                                 Traceback (most recent call last)",
      "Cell \u001b[1;32mIn[9], line 1\u001b[0m\n\u001b[1;32m----> 1\u001b[0m \u001b[38;5;28mprint\u001b[39m(\u001b[38;5;124;43m\"\u001b[39;49m\u001b[38;5;124;43mHello\u001b[39;49m\u001b[38;5;124;43m\"\u001b[39;49m\u001b[43m \u001b[49m\u001b[38;5;241;43m*\u001b[39;49m\u001b[43m \u001b[49m\u001b[38;5;124;43m\"\u001b[39;49m\u001b[38;5;124;43m4\u001b[39;49m\u001b[38;5;124;43m\"\u001b[39;49m)\n",
      "\u001b[1;31mTypeError\u001b[0m: can't multiply sequence by non-int of type 'str'"
     ]
    }
   ],
   "source": [
    "print(\"Hello\" * \"4\")"
   ]
  },
  {
   "cell_type": "markdown",
   "id": "54d09301",
   "metadata": {},
   "source": [
    "- Đó mọi người thấy rồi đúng không nào, sẽ hiện ra lỗi nếu cố làm phép nhân giữa hai strings với nhau "
   ]
  },
  {
   "cell_type": "markdown",
   "id": "e16be93c",
   "metadata": {},
   "source": [
    "# Variables (Biến)"
   ]
  },
  {
   "cell_type": "markdown",
   "id": "7c87835e",
   "metadata": {},
   "source": [
    "- Chúng ta có thể lưu trữ và sử dụng một cái gì đó bằng cách sử dụng một biến. Biến được tạo ra bằng cách gán cho biến đó một cái gì đó: có thể là số nguyên, strings, ... \n",
    "- Cùng xem ví dụ dưới đây nhé "
   ]
  },
  {
   "cell_type": "code",
   "execution_count": 10,
   "id": "5b2c8412",
   "metadata": {},
   "outputs": [
    {
     "name": "stdout",
     "output_type": "stream",
     "text": [
      "Hello world\n"
     ]
    }
   ],
   "source": [
    "mesage = \"Hello world\"\n",
    "print(mesage)"
   ]
  },
  {
   "cell_type": "markdown",
   "id": "e976daa9",
   "metadata": {},
   "source": [
    "- Ở dòng đầu tiên một cái biến nào đó đã được tạo ra và đặt tên là message\n",
    "- Sau đó strings \"Hello world\" đã được gán cho biến đó. \n",
    "- Vậy khi chúng ta print(message), thay vì việc nó in ra message, nó sẽ in ra thứ mà biến message đó đang lưu trữ - chính là string \"Hello world\""
   ]
  },
  {
   "cell_type": "markdown",
   "id": "b33b9599",
   "metadata": {},
   "source": []
  },
  {
   "cell_type": "code",
   "execution_count": 11,
   "id": "8aa77f50",
   "metadata": {},
   "outputs": [
    {
     "name": "stdout",
     "output_type": "stream",
     "text": [
      "3\n"
     ]
    }
   ],
   "source": [
    "a = 1\n",
    "b = 2\n",
    "print(a + b)"
   ]
  },
  {
   "cell_type": "markdown",
   "id": "ebda52a4",
   "metadata": {},
   "source": [
    "- Biến cũng có thể là một số nguyên đúng không nào mọi người, và khi chúng ta thực hiện a + b, nó cũng chỉ đơn giản như ta đang thực hiện 1 + 2 và cho ra kết quả là 3"
   ]
  },
  {
   "cell_type": "markdown",
   "id": "14c6d582",
   "metadata": {},
   "source": [
    "Thử thực hiện một vài hành động giữa strings với số nguyên nhưng mà dùng biến nhé mọi người "
   ]
  },
  {
   "cell_type": "code",
   "execution_count": 13,
   "id": "e814035b",
   "metadata": {},
   "outputs": [
    {
     "name": "stdout",
     "output_type": "stream",
     "text": [
      "HelloHelloHello\n"
     ]
    }
   ],
   "source": [
    "message = \"Hello\"\n",
    "num = 3\n",
    "print(message * num)"
   ]
  },
  {
   "cell_type": "markdown",
   "id": "447dff54",
   "metadata": {},
   "source": [
    "Thử cập nhật một biến xem như nào mọi người nhé "
   ]
  },
  {
   "cell_type": "code",
   "execution_count": 14,
   "id": "7c06764a",
   "metadata": {},
   "outputs": [
    {
     "name": "stdout",
     "output_type": "stream",
     "text": [
      "10\n"
     ]
    }
   ],
   "source": [
    "a = 1\n",
    "a = 10\n",
    "print(a)"
   ]
  },
  {
   "cell_type": "markdown",
   "id": "d31d5715",
   "metadata": {},
   "source": []
  },
  {
   "cell_type": "markdown",
   "id": "ad01b039",
   "metadata": {
    "vscode": {
     "languageId": "ini"
    }
   },
   "source": [
    "# Quy tắc đặt tên biến trong Python\n",
    "\n",
    "Khi đặt tên biến trong Python, bạn nên tuân theo các quy tắc sau:\n",
    "\n",
    "- Tên biến chỉ được chứa các chữ cái (a-z, A-Z), chữ số (0-9) và dấu gạch dưới (_).\n",
    "- Tên biến không được bắt đầu bằng chữ số.\n",
    "- Không được sử dụng các từ khóa (keywords) của Python làm tên biến (ví dụ: `for`, `if`, `while`, `class`, ...).\n",
    "- Tên biến có phân biệt chữ hoa và chữ thường (`age` khác với `Age`).\n",
    "- Nên đặt tên biến có ý nghĩa, dễ hiểu, tránh đặt tên quá ngắn hoặc khó hiểu.\n",
    "- Theo quy ước, tên biến nhiều từ nên dùng dấu gạch dưới để phân tách (ví dụ: `student_name`, `total_score`).\n",
    "\n",
    "Ví dụ tên biến hợp lệ:\n",
    "- `age`\n",
    "- `student_name`\n",
    "- `score1`\n",
    "\n",
    "Ví dụ tên biến không hợp lệ:\n",
    "- `1st_score` (bắt đầu bằng số)\n",
    "- `for` (từ khóa của Python)\n",
    "- `student-name` (chứa ký tự không hợp lệ là dấu gạch ngang)"
   ]
  },
  {
   "cell_type": "markdown",
   "id": "110d2511",
   "metadata": {},
   "source": []
  },
  {
   "cell_type": "markdown",
   "id": "015f65e8",
   "metadata": {},
   "source": [
    "# Hàm `input()` trong Python\n",
    "\n",
    "Hàm `input()` được sử dụng để nhận dữ liệu từ người dùng thông qua bàn phím. Khi chương trình chạy đến dòng có hàm `input()`, nó sẽ tạm dừng và chờ người dùng nhập dữ liệu, sau đó nhấn Enter. Giá trị mà người dùng nhập vào sẽ được trả về dưới dạng kiểu dữ liệu `str` (chuỗi)."
   ]
  },
  {
   "cell_type": "code",
   "execution_count": 20,
   "id": "e78c7dbf",
   "metadata": {},
   "outputs": [
    {
     "name": "stdout",
     "output_type": "stream",
     "text": [
      "triet\n"
     ]
    }
   ],
   "source": [
    "# Ví dụ nhé \n",
    "name = input(\"Nhập tên bạn vào đây đi\")\n",
    "print(name)"
   ]
  },
  {
   "cell_type": "markdown",
   "id": "4dddd499",
   "metadata": {},
   "source": []
  }
 ],
 "metadata": {
  "kernelspec": {
   "display_name": "Python 3",
   "language": "python",
   "name": "python3"
  },
  "language_info": {
   "codemirror_mode": {
    "name": "ipython",
    "version": 3
   },
   "file_extension": ".py",
   "mimetype": "text/x-python",
   "name": "python",
   "nbconvert_exporter": "python",
   "pygments_lexer": "ipython3",
   "version": "3.13.2"
  }
 },
 "nbformat": 4,
 "nbformat_minor": 5
}
