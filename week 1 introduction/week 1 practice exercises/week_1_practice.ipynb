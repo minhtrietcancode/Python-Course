{
 "cells": [
  {
   "cell_type": "markdown",
   "id": "6ac70427",
   "metadata": {},
   "source": [
    "# Hello world "
   ]
  },
  {
   "cell_type": "markdown",
   "id": "7897bf78",
   "metadata": {},
   "source": [
    "- Bây giờ đơn giản thôi nhé, hãy viết một đoạn code giúp in ra đoạn kí tự như sau: \n",
    "    + Hola World!\n",
    "    + How are you?"
   ]
  },
  {
   "cell_type": "code",
   "execution_count": 1,
   "id": "b2909c21",
   "metadata": {},
   "outputs": [],
   "source": [
    "# Viết code cho yêu cầu trên ở đây nhé"
   ]
  },
  {
   "cell_type": "markdown",
   "id": "cb759d76",
   "metadata": {},
   "source": []
  },
  {
   "cell_type": "markdown",
   "id": "a14ee72e",
   "metadata": {},
   "source": [
    "# Python as a calculator "
   ]
  },
  {
   "cell_type": "markdown",
   "id": "e3514f10",
   "metadata": {},
   "source": [
    "- Hãy viết đoạn code để in ra lũy thừa của 10 nhé, ví dụ lũy thừa của 3 là tích từ 1 đến 3: 1x2x3"
   ]
  },
  {
   "cell_type": "code",
   "execution_count": 2,
   "id": "aa4a7293",
   "metadata": {},
   "outputs": [],
   "source": [
    "# Viết code cho yêu cầu trên ở đây nhé"
   ]
  },
  {
   "cell_type": "markdown",
   "id": "5bbedb0b",
   "metadata": {},
   "source": [
    "# Strings "
   ]
  },
  {
   "cell_type": "markdown",
   "id": "28c86bb1",
   "metadata": {},
   "source": [
    "- Hãy viết đoạn code in ra dòng chữ này, cố gắng dùng những gì ae đọc được ở phần note cho strings nhé \n",
    "- AAAAAAAAAADDDDDDDDDDCEABC"
   ]
  },
  {
   "cell_type": "code",
   "execution_count": 1,
   "id": "fe2b67c6",
   "metadata": {},
   "outputs": [],
   "source": [
    "# Viết code cho yêu cầu trên ở đây nhé "
   ]
  },
  {
   "cell_type": "markdown",
   "id": "72f47946",
   "metadata": {},
   "source": [
    "# Input() function"
   ]
  },
  {
   "cell_type": "markdown",
   "id": "0fe9ea3e",
   "metadata": {},
   "source": [
    "- Hãy viết một đoạn code để hỏi tên người khác và in ra tên đó lên màn hình "
   ]
  },
  {
   "cell_type": "code",
   "execution_count": 2,
   "id": "193c828e",
   "metadata": {},
   "outputs": [],
   "source": [
    "# Viết code ở đây nhé mọi người "
   ]
  }
 ],
 "metadata": {
  "kernelspec": {
   "display_name": "Python 3",
   "language": "python",
   "name": "python3"
  },
  "language_info": {
   "codemirror_mode": {
    "name": "ipython",
    "version": 3
   },
   "file_extension": ".py",
   "mimetype": "text/x-python",
   "name": "python",
   "nbconvert_exporter": "python",
   "pygments_lexer": "ipython3",
   "version": "3.13.2"
  }
 },
 "nbformat": 4,
 "nbformat_minor": 5
}
