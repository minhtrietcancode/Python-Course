{
 "cells": [
  {
   "cell_type": "markdown",
   "id": "f119cc4b",
   "metadata": {},
   "source": [
    "# Kiểm Tra Thành Phố Thủ Phủ\n",
    "\n",
    "Viết một hàm `is_capital(state, city)` trả về `True` nếu `city` được đặt tên là thủ phủ của `state` được đặt tên, và `False` trong trường hợp ngược lại. Mọi thành phố và bang trong bảng sau đây đều phải được nhận diện.\n",
    "\n",
    "| Bang | Thành phố thủ phủ |\n",
    "|-------|------------------|\n",
    "| New South Wales | Sydney |\n",
    "| Queensland | Brisbane |\n",
    "| South Australia | Adelaide |\n",
    "| Tasmania | Hobart |\n",
    "| Victoria | Melbourne |\n",
    "| Western Australia | Perth |\n",
    "\n",
    "Nếu một thành phố hoặc bang không có trong bảng, hàm phải trả về `False`.\n",
    "\n",
    "Dưới đây là một số ví dụ về cách hàm của bạn sẽ hoạt động:\n",
    "\n",
    "```python\n",
    ">>> is_capital('Victoria', 'Melbourne')\n",
    "True\n",
    "```\n",
    "\n",
    "```python\n",
    ">>> is_capital('Queensland', 'Adelaide')\n",
    "False\n",
    "```\n",
    "\n",
    "```python\n",
    "CAPITALS = { \n",
    "    'Victoria': 'Melbourne', \n",
    "    'New South Wales': 'Sydney', \n",
    "    'Queensland': 'Brisbane', \n",
    "    'Tasmania': 'Hobart', \n",
    "    'South Australia': 'Adelaide', \n",
    "    'Western Australia': 'Perth' \n",
    "}\n",
    "```"
   ]
  },
  {
   "cell_type": "code",
   "execution_count": null,
   "id": "05ccc1b7",
   "metadata": {},
   "outputs": [],
   "source": [
    "# Viet code o day nhe"
   ]
  },
  {
   "cell_type": "markdown",
   "id": "e9c7d920",
   "metadata": {},
   "source": [
    "# **Từ Trùng Lặp**\n",
    "\n",
    "Viết một hàm `repeat_word_count(text, n)` nhận vào một chuỗi `text` và một số nguyên dương `n`, chuyển đổi `text` thành một danh sách các từ dựa trên việc phân tách bằng khoảng trắng đơn giản (không loại bỏ dấu câu hoặc thay đổi chữ hoa/thường), và trả về một danh sách **đã sắp xếp** các từ xuất hiện `n` lần hoặc nhiều hơn trong `text`. Ví dụ:\n",
    "\n",
    "```python\n",
    ">>> repeat_word_count(\"buffalo buffalo buffalo buffalo\", 2)\n",
    "```\n",
    "\n",
    "```python\n",
    "['buffalo']\n",
    "```\n",
    "\n",
    "```python\n",
    ">>> repeat_word_count(\"one one was a racehorse two two was one too\", 3)\n",
    "```\n",
    "\n",
    "```python\n",
    "['one']\n",
    "```\n",
    "\n",
    "```python\n",
    ">>> repeat_word_count(\"how much wood could a wood chuck chuck\", 1)\n",
    "```\n",
    "\n",
    "```python\n",
    "['a', 'chuck', 'could', 'how', 'much', 'wood']\n",
    "```"
   ]
  },
  {
   "cell_type": "code",
   "execution_count": null,
   "id": "d9ecf496",
   "metadata": {},
   "outputs": [],
   "source": [
    "# Viet code o day nhe"
   ]
  },
  {
   "cell_type": "markdown",
   "id": "22f3620c",
   "metadata": {},
   "source": [
    "# **Danh sách Mode**\n",
    "\n",
    "Viết một hàm `mode(numlist)` nhận một tham số duy nhất `numlist` (một danh sách số không rỗng), và trả về danh sách đã sắp xếp các số xuất hiện với tần suất cao nhất trong `numlist` (tức là **mode**, ngoại trừ việc chúng ta muốn có thể xử lý khả năng có nhiều giá trị mode, và do đó sử dụng một danh sách... và sắp xếp các giá trị mode khi chúng ta làm điều đó... rõ ràng là vậy). Ví dụ:\n",
    "\n",
    "```python\n",
    ">>> mode([2, 0, 1, 0, 2])\n",
    "[0, 2]\n",
    "```\n",
    "\n",
    "```python\n",
    ">>> mode([5, 1, 1, 5, 1])\n",
    "[1]\n",
    "```\n",
    "\n",
    "```python\n",
    ">>> mode([4.0])\n",
    "[4.0]\n",
    "```"
   ]
  },
  {
   "cell_type": "code",
   "execution_count": null,
   "id": "2b6b7d6b",
   "metadata": {},
   "outputs": [],
   "source": [
    "# Viet code o day nhe"
   ]
  },
  {
   "cell_type": "markdown",
   "id": "66e3267e",
   "metadata": {},
   "source": [
    "# **Top-5 Từ Xuất Hiện Nhiều Nhất**\n",
    "\n",
    "Viết một hàm `top5_words(text)` nhận một tham số `text` (một chuỗi không rỗng), tách `text` thành các từ dựa vào khoảng trắng (một lần nữa, không loại bỏ dấu câu hoặc chuẩn hóa chữ hoa chữ thường), và trả về top-5 từ dưới dạng danh sách các chuỗi, theo thứ tự *giảm dần* của tần suất. Nếu có sự bằng nhau về tần suất tại bất kỳ điểm nào, các từ có cùng tần suất sẽ được sắp xếp phụ theo thứ tự bảng chữ cái (ví dụ: nếu `'turtle'` và `'grok'` đều xuất hiện 5 lần, `'grok'` sẽ đứng trước). Nếu có ít hơn năm từ riêng biệt trong `text`, hàm sẽ trả về tất cả các từ theo thứ tự giảm dần của tần suất (với cùng cơ chế phá vỡ sự bằng nhau). Ví dụ:\n",
    "\n",
    "```python\n",
    ">>> top5_words(\"one one was a racehorse two two was one too\")\n",
    "```\n",
    "\n",
    "```python\n",
    "[\"one\", \"two\", \"was\", \"a\", \"racehorse\"]\n",
    "```\n",
    "\n",
    "```python\n",
    ">>> top5_words(\"buffalo buffalo buffalo chicken buffalo\")\n",
    "```\n",
    "\n",
    "```python\n",
    "[\"buffalo\", \"chicken\"]\n",
    "```\n",
    "\n",
    "```python\n",
    ">>> top5_words(\"the quick brown fox jumped over the lazy dog\")\n",
    "```\n",
    "\n",
    "```python\n",
    "[\"the\", \"brown\", \"dog\", \"fox\", \"jumped\"]\n",
    "```\n",
    "\n",
    "## **Sắp Xếp Tuple**\n",
    "\n",
    "Bạn có nhớ cách xử lý sự bằng nhau khi sắp xếp tuple không? Nếu có sự bằng nhau trong giá trị của phần tử đầu tiên, phần tử thứ hai sẽ được sử dụng để phá vỡ sự bằng nhau, v.v. Ví dụ:\n",
    "\n",
    "```python\n",
    "print(sorted([(1, 4), (1, 2), (1, 1)]))\n",
    "```\n",
    "\n",
    "```python\n",
    "print(sorted([(1, 'b'), (1, 'a'), (0, 'z')]))\n",
    "```\n",
    "\n",
    "Trong bài tập này, bạn sẽ cần sắp xếp các số ở vị trí 0 từ cao nhất đến thấp nhất và phá vỡ sự bằng nhau của các chuỗi ở vị trí 1 từ thấp nhất đến cao nhất. Điều này khó thực hiện nếu không nhận ra rằng bạn có thể chuyển đổi các số thành giá trị *âm*, trong trường hợp này cả số và chuỗi đều có thể được sắp xếp từ thấp nhất đến cao nhất:\n",
    "\n",
    "```python\n",
    "my_list = [(-4, \"hello\"), (-1, \"toy\"), (-7, \"marshmallow\"), (-4, \"alphabet\")]\n",
    "```\n",
    "\n",
    "```python\n",
    "print(sorted(my_list))\n",
    "```"
   ]
  },
  {
   "cell_type": "code",
   "execution_count": null,
   "id": "2fd7a51b",
   "metadata": {},
   "outputs": [],
   "source": [
    "# Viet code o day nhe"
   ]
  },
  {
   "cell_type": "markdown",
   "id": "a9bcc27e",
   "metadata": {},
   "source": [
    "# **Bạn Chung**\n",
    "\n",
    "Viết một hàm `mutual_friends(list1, list2)` nhận vào hai danh sách bạn bè (với đảm bảo không có tên nào bị lặp lại trong mỗi danh sách), và trả về số lượng bạn chung dựa trên sets. Hàm của bạn nên hoạt động như sau:\n",
    "\n",
    "```python\n",
    ">>> mutual_friends([\"Bob\", \"Joe\"],[\"Esmerelda\"])\n",
    "0\n",
    "```\n",
    "\n",
    "```python\n",
    ">>> mutual_friends([\"Bob\", \"Joe\"],[\"Bob\", \"Joe\"])\n",
    "2\n",
    "```\n",
    "\n",
    "```python\n",
    ">>> mutual_friends([\"Bob\", \"Joe\"],[\"Bob\", \"Joe\", \"Keitha\"])\n",
    "2\n",
    "```"
   ]
  },
  {
   "cell_type": "code",
   "execution_count": null,
   "id": "b4d65595",
   "metadata": {},
   "outputs": [],
   "source": [
    "# Viet code o day nhe"
   ]
  }
 ],
 "metadata": {
  "language_info": {
   "name": "python"
  }
 },
 "nbformat": 4,
 "nbformat_minor": 5
}
